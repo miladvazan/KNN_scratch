{
 "cells": [
  {
   "cell_type": "markdown",
   "id": "58e8dab8",
   "metadata": {},
   "source": [
    "# KNN from scratch"
   ]
  },
  {
   "cell_type": "code",
   "execution_count": 2,
   "id": "adda442e",
   "metadata": {},
   "outputs": [],
   "source": [
    "import numpy as np\n",
    "\n",
    "class KNN:\n",
    "    def __init__(self, k):\n",
    "        self.k = k\n",
    "    \n",
    "    def fit(self, X, y):\n",
    "        self.X_train = X\n",
    "        self.y_train = y\n",
    "    \n",
    "    def euclidean_distance(self, X1, X2):\n",
    "        return np.sqrt(np.sum((X1 - X2) ** 2, axis=1))\n",
    "    \n",
    "    def predict(self, X_test):\n",
    "        y_pred = []\n",
    "        for x in X_test:\n",
    "            distances = self.euclidean_distance(self.X_train, x)\n",
    "            indices = np.argsort(distances)[:self.k]\n",
    "            k_nearest_labels = self.y_train[indices]\n",
    "            unique, counts = np.unique(k_nearest_labels, return_counts=True)\n",
    "            y_pred.append(unique[np.argmax(counts)])\n",
    "        return np.array(y_pred)"
   ]
  },
  {
   "cell_type": "markdown",
   "id": "46f00f9d",
   "metadata": {},
   "source": [
    "### use scikit-learn's KNN implementation and compare it with our scratch implementation using an example"
   ]
  },
  {
   "cell_type": "code",
   "execution_count": null,
   "id": "bc224a30",
   "metadata": {},
   "outputs": [],
   "source": [
    "from sklearn.datasets import load_iris\n",
    "from sklearn.model_selection import train_test_split\n",
    "from sklearn.neighbors import KNeighborsClassifier\n",
    "from sklearn.metrics import accuracy_score\n",
    "\n",
    "# Load the Iris dataset\n",
    "iris = load_iris()\n",
    "X, y = iris.data, iris.target\n",
    "\n",
    "# Split the data into training and testing sets\n",
    "X_train, X_test, y_train, y_test = train_test_split(X, y, test_size=0.2, random_state=42)"
   ]
  },
  {
   "cell_type": "markdown",
   "id": "6b8fe964",
   "metadata": {},
   "source": [
    "# Our scratch KNN implementation"
   ]
  },
  {
   "cell_type": "code",
   "execution_count": 3,
   "id": "400b5c0c",
   "metadata": {},
   "outputs": [
    {
     "name": "stdout",
     "output_type": "stream",
     "text": [
      "Accuracy (Scratch): 1.0\n"
     ]
    }
   ],
   "source": [
    "knn_scratch = KNN(k=3)\n",
    "knn_scratch.fit(X_train, y_train)\n",
    "y_pred_scratch = knn_scratch.predict(X_test)\n",
    "accuracy_scratch = accuracy_score(y_test, y_pred_scratch)\n",
    "print(\"Accuracy (Scratch):\", accuracy_scratch)"
   ]
  },
  {
   "cell_type": "markdown",
   "id": "1d8ce59c",
   "metadata": {},
   "source": [
    "\n",
    "# Scikit-learn's KNN implementation"
   ]
  },
  {
   "cell_type": "code",
   "execution_count": 4,
   "id": "92dd9e65",
   "metadata": {},
   "outputs": [
    {
     "name": "stdout",
     "output_type": "stream",
     "text": [
      "Accuracy (scikit-learn): 1.0\n"
     ]
    }
   ],
   "source": [
    "knn_sklearn = KNeighborsClassifier(n_neighbors=3)\n",
    "knn_sklearn.fit(X_train, y_train)\n",
    "y_pred_sklearn = knn_sklearn.predict(X_test)\n",
    "accuracy_sklearn = accuracy_score(y_test, y_pred_sklearn)\n",
    "print(\"Accuracy (scikit-learn):\", accuracy_sklearn)"
   ]
  },
  {
   "cell_type": "markdown",
   "id": "f98e9114",
   "metadata": {},
   "source": [
    " ## test the K-nearest neighbors (KNN) algorithm on artificial data"
   ]
  },
  {
   "cell_type": "code",
   "execution_count": 7,
   "id": "fece8256",
   "metadata": {},
   "outputs": [
    {
     "name": "stdout",
     "output_type": "stream",
     "text": [
      "Accuracy (Scratch): 0.9095\n",
      "Accuracy (scikit-learn): 0.9095\n"
     ]
    }
   ],
   "source": [
    "from sklearn.datasets import make_classification\n",
    "\n",
    "# Generate synthetic data\n",
    "X, y = make_classification(n_samples=10000, n_features=10, random_state=42)\n",
    "\n",
    "# Split the data into training and testing sets\n",
    "X_train, X_test, y_train, y_test = train_test_split(X, y, test_size=0.2, random_state=42)\n",
    "\n",
    "# Our scratch KNN implementation\n",
    "knn_scratch = KNN(k=3)\n",
    "knn_scratch.fit(X_train, y_train)\n",
    "y_pred_scratch = knn_scratch.predict(X_test)\n",
    "accuracy_scratch = accuracy_score(y_test, y_pred_scratch)\n",
    "print(\"Accuracy (Scratch):\", accuracy_scratch)\n",
    "\n",
    "# Scikit-learn's KNN implementation\n",
    "knn_sklearn = KNeighborsClassifier(n_neighbors=3)\n",
    "knn_sklearn.fit(X_train, y_train)\n",
    "y_pred_sklearn = knn_sklearn.predict(X_test)\n",
    "accuracy_sklearn = accuracy_score(y_test, y_pred_sklearn)\n",
    "print(\"Accuracy (scikit-learn):\", accuracy_sklearn)"
   ]
  },
  {
   "cell_type": "code",
   "execution_count": null,
   "id": "57ff731d",
   "metadata": {},
   "outputs": [],
   "source": []
  }
 ],
 "metadata": {
  "hide_input": false,
  "kernelspec": {
   "display_name": "Python 3 (ipykernel)",
   "language": "python",
   "name": "python3"
  },
  "language_info": {
   "codemirror_mode": {
    "name": "ipython",
    "version": 3
   },
   "file_extension": ".py",
   "mimetype": "text/x-python",
   "name": "python",
   "nbconvert_exporter": "python",
   "pygments_lexer": "ipython3",
   "version": "3.9.9"
  }
 },
 "nbformat": 4,
 "nbformat_minor": 5
}
